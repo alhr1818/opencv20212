{
 "cells": [
  {
   "cell_type": "code",
   "execution_count": 2,
   "id": "d7115f51-cec7-4a24-a060-acd431f44485",
   "metadata": {},
   "outputs": [],
   "source": [
    "li = [3, 6, 2, 7]"
   ]
  },
  {
   "cell_type": "code",
   "execution_count": 4,
   "id": "de7e6121-82ee-47d3-b258-ed4724171643",
   "metadata": {},
   "outputs": [
    {
     "data": {
      "text/plain": [
       "[6, 12, 4, 14]"
      ]
     },
     "execution_count": 4,
     "metadata": {},
     "output_type": "execute_result"
    }
   ],
   "source": [
    "[elem*2 for elem in li]"
   ]
  },
  {
   "cell_type": "code",
   "execution_count": 5,
   "id": "d688f542-cf8c-4933-b12e-7fa3c0d11cbb",
   "metadata": {},
   "outputs": [],
   "source": [
    "li = [('a', 1), ('b', 2), ('c', 7)]"
   ]
  },
  {
   "cell_type": "code",
   "execution_count": 6,
   "id": "b553974a-ad64-46af-9f7a-30430fdbbe6d",
   "metadata": {},
   "outputs": [
    {
     "data": {
      "text/plain": [
       "[3, 6, 21]"
      ]
     },
     "execution_count": 6,
     "metadata": {},
     "output_type": "execute_result"
    }
   ],
   "source": [
    "[ n * 3 for (x,n) in li]"
   ]
  },
  {
   "cell_type": "code",
   "execution_count": 7,
   "id": "fb5aaa5b-1212-4303-8063-d4b7280d44ef",
   "metadata": {},
   "outputs": [],
   "source": [
    "li = [3, 6, 2, 7, 1 ,9]"
   ]
  },
  {
   "cell_type": "code",
   "execution_count": 8,
   "id": "160a6064-547d-4e08-8bb6-9d13632027fa",
   "metadata": {},
   "outputs": [
    {
     "data": {
      "text/plain": [
       "[12, 14, 18]"
      ]
     },
     "execution_count": 8,
     "metadata": {},
     "output_type": "execute_result"
    }
   ],
   "source": [
    "[elem*2 for elem in li if elem > 4]"
   ]
  },
  {
   "cell_type": "code",
   "execution_count": 9,
   "id": "09e87209-8f05-47a3-b9e4-83a3a4bf5dd4",
   "metadata": {},
   "outputs": [],
   "source": [
    "li = [3, 2, 4, 1]"
   ]
  },
  {
   "cell_type": "code",
   "execution_count": 10,
   "id": "8364e409-89dc-4e69-8f02-e7a56a3e4d04",
   "metadata": {},
   "outputs": [
    {
     "data": {
      "text/plain": [
       "[8, 6, 10, 4]"
      ]
     },
     "execution_count": 10,
     "metadata": {},
     "output_type": "execute_result"
    }
   ],
   "source": [
    " [elem*2 for elem in\n",
    "  [item+1 for item in li] ]"
   ]
  },
  {
   "cell_type": "code",
   "execution_count": null,
   "id": "b170656d-2165-4c9e-93dd-7165d203ec9d",
   "metadata": {},
   "outputs": [],
   "source": []
  }
 ],
 "metadata": {
  "kernelspec": {
   "display_name": "Python 3",
   "language": "python",
   "name": "python3"
  },
  "language_info": {
   "codemirror_mode": {
    "name": "ipython",
    "version": 3
   },
   "file_extension": ".py",
   "mimetype": "text/x-python",
   "name": "python",
   "nbconvert_exporter": "python",
   "pygments_lexer": "ipython3",
   "version": "3.9.4"
  }
 },
 "nbformat": 4,
 "nbformat_minor": 5
}
