{
 "cells": [
  {
   "cell_type": "markdown",
   "id": "9bf7addc-97a2-42c8-a74d-e523fcb2b551",
   "metadata": {},
   "source": [
    "## 1.5.1 Understanding Features"
   ]
  },
  {
   "cell_type": "code",
   "execution_count": null,
   "id": "34d438ea-ad88-4439-8d5c-7d4f09f96303",
   "metadata": {},
   "outputs": [],
   "source": []
  }
 ],
 "metadata": {
  "kernelspec": {
   "display_name": "Python 3",
   "language": "python",
   "name": "python3"
  },
  "language_info": {
   "codemirror_mode": {
    "name": "ipython",
    "version": 3
   },
   "file_extension": ".py",
   "mimetype": "text/x-python",
   "name": "python",
   "nbconvert_exporter": "python",
   "pygments_lexer": "ipython3",
   "version": "3.9.4"
  }
 },
 "nbformat": 4,
 "nbformat_minor": 5
}
