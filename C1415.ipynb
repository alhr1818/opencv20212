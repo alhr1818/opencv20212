{
 "cells": [
  {
   "cell_type": "markdown",
   "id": "a33e2a8e-3774-47ef-9d4b-78a8f95dd92c",
   "metadata": {},
   "source": [
    "## 1.4.15 Image Segmentation with Watershed Algorithm"
   ]
  },
  {
   "cell_type": "code",
   "execution_count": 11,
   "id": "8457a13f-eab6-4849-9046-51c23eb6ad6a",
   "metadata": {},
   "outputs": [],
   "source": [
    "import numpy as np\n",
    "import cv2\n",
    "from matplotlib import pyplot as plt"
   ]
  },
  {
   "cell_type": "code",
   "execution_count": 12,
   "id": "5477885b-f5d9-47b8-a9d9-224d412426e7",
   "metadata": {},
   "outputs": [],
   "source": [
    "img = cv2.imread('coins.png')\n",
    "gray = cv2.cvtColor(img,cv2.COLOR_BGR2GRAY)\n",
    "ret, thresh = cv2.threshold(gray,0,255,cv2.THRESH_BINARY_INV+cv2.THRESH_OTSU)"
   ]
  },
  {
   "cell_type": "code",
   "execution_count": 13,
   "id": "fe3cefa6-20de-443c-bfb6-70d8e856d3d6",
   "metadata": {},
   "outputs": [],
   "source": [
    "kernel = np.ones((3,3),np.uint8)\n",
    "opening = cv2.morphologyEx(thresh,cv2.MORPH_OPEN,kernel, iterations = 2)"
   ]
  },
  {
   "cell_type": "code",
   "execution_count": 14,
   "id": "04db412c-c969-4c4f-8f45-7d8a9a0cad40",
   "metadata": {},
   "outputs": [],
   "source": [
    "sure_bg = cv2.dilate(opening,kernel,iterations=3)"
   ]
  },
  {
   "cell_type": "code",
   "execution_count": 15,
   "id": "738441d3-9c08-4528-a07d-2740aa606096",
   "metadata": {},
   "outputs": [],
   "source": [
    "dist_transform = cv2.distanceTransform(opening,cv2.DIST_L2,5)\n",
    "ret, sure_fg = cv2.threshold(dist_transform,0.7*dist_transform.max(),255,0)"
   ]
  },
  {
   "cell_type": "code",
   "execution_count": 16,
   "id": "47ea38d5-7e6d-41df-8fea-7e155278b9f9",
   "metadata": {},
   "outputs": [],
   "source": [
    "sure_fg = np.uint8(sure_fg)\n",
    "unknown = cv2.subtract(sure_bg,sure_fg)"
   ]
  },
  {
   "cell_type": "code",
   "execution_count": 17,
   "id": "70955149-7a2a-464e-a83f-d70d0b7c2a6a",
   "metadata": {},
   "outputs": [],
   "source": [
    "ret, markers = cv2.connectedComponents(sure_fg)"
   ]
  },
  {
   "cell_type": "code",
   "execution_count": 18,
   "id": "1ee67d4e-1015-4aba-8bb8-4f791cf458fa",
   "metadata": {},
   "outputs": [],
   "source": [
    "markers = markers+1"
   ]
  },
  {
   "cell_type": "code",
   "execution_count": 19,
   "id": "a48b9c10-35dd-454c-af67-7ec81865b6a2",
   "metadata": {},
   "outputs": [],
   "source": [
    "markers[unknown==255] = 0"
   ]
  },
  {
   "cell_type": "code",
   "execution_count": 20,
   "id": "b8f14b91-3728-4531-ac80-fae4c1d97d13",
   "metadata": {},
   "outputs": [],
   "source": [
    "markers = cv2.watershed(img,markers)\n",
    "img[markers == -1] = [255,0,0]"
   ]
  },
  {
   "cell_type": "code",
   "execution_count": null,
   "id": "e4d6193b-4f75-40fb-b295-5aeb755c22e3",
   "metadata": {},
   "outputs": [],
   "source": []
  }
 ],
 "metadata": {
  "kernelspec": {
   "display_name": "Python 3",
   "language": "python",
   "name": "python3"
  },
  "language_info": {
   "codemirror_mode": {
    "name": "ipython",
    "version": 3
   },
   "file_extension": ".py",
   "mimetype": "text/x-python",
   "name": "python",
   "nbconvert_exporter": "python",
   "pygments_lexer": "ipython3",
   "version": "3.9.4"
  }
 },
 "nbformat": 4,
 "nbformat_minor": 5
}
