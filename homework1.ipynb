{
 "cells": [
  {
   "cell_type": "markdown",
   "id": "df285c1c-2900-4f57-880b-4584fea2a1f6",
   "metadata": {},
   "source": [
    "## Homework1"
   ]
  },
  {
   "cell_type": "code",
   "execution_count": 15,
   "id": "0a902563-0776-4786-90c1-4f79f402d862",
   "metadata": {},
   "outputs": [],
   "source": [
    "import cv2\n",
    "import numpy as np"
   ]
  },
  {
   "cell_type": "code",
   "execution_count": 16,
   "id": "0ee9b376-1db7-4d89-a354-ea3fcfad813e",
   "metadata": {},
   "outputs": [],
   "source": [
    "def nothing(x):\n",
    "    pass"
   ]
  },
  {
   "cell_type": "code",
   "execution_count": 17,
   "id": "dd74eb53-cf79-4d25-87eb-36acc3f9f943",
   "metadata": {},
   "outputs": [],
   "source": [
    "drawing = False # true if mouse is pressed\n",
    "mode = True # if True, draw rectangle. Press 'm' to toggle to curve\n",
    "ix,iy = -1,-1\n",
    "# mouse callback function\n",
    "def draw_circle(event,x,y,flags,param):\n",
    "    global ix,iy,drawing,mode, img\n",
    "    if event == cv2.EVENT_LBUTTONDOWN:\n",
    "        drawing = True\n",
    "        ix,iy = x,y\n",
    "    elif event == cv2.EVENT_LBUTTONUP:\n",
    "        drawing = False\n",
    "        rx,ry=x,y"
   ]
  },
  {
   "cell_type": "code",
   "execution_count": 19,
   "id": "d7906670-c2fc-437c-a919-1823e67372e5",
   "metadata": {},
   "outputs": [
    {
     "ename": "SyntaxError",
     "evalue": "invalid syntax (<ipython-input-19-efec12037ee4>, line 5)",
     "output_type": "error",
     "traceback": [
      "\u001b[1;36m  File \u001b[1;32m\"<ipython-input-19-efec12037ee4>\"\u001b[1;36m, line \u001b[1;32m5\u001b[0m\n\u001b[1;33m    cv2.createTrackbar('value','image'.0.255,nothing)\u001b[0m\n\u001b[1;37m                                      ^\u001b[0m\n\u001b[1;31mSyntaxError\u001b[0m\u001b[1;31m:\u001b[0m invalid syntax\n"
     ]
    }
   ],
   "source": [
    "font = cv2.FONT_HERSHEY_SIMPLEX\n",
    "img = cv2.Imread('image1.jpg')\n",
    "cv2.namedWindow('image')\n",
    "cv2.setMousecallback('image',draw_rectangle)\n",
    "cv2.createTrackbar('value','image'.0.255,nothing)\n",
    "while(1):\n",
    "    img = cv2.imread('image1.jpg')\n",
    "    k = cv2.waitKey(1) & 0xFF\n",
    "    if k == ord('m'):\n",
    "        mode += 1\n",
    "        if mode > 3:\n",
    "            mode = 1\n",
    "    elif k ==27:\n",
    "        break\n",
    "    value = cv2.getTrackbarPos('value','image')\n",
    "    if lx l= -1 and iy l= -1:\n",
    "        cv2.rectangle(img.(ix,iy),(rx,ry),(0,255,0),0)\n",
    "        if mode == 1:\n",
    "            clip = img[iy:ry,ix:rx]\n",
    "            clip[:,:,1]=0\n",
    "            clip[:,:,2]=0\n",
    "        elif mode ==2:\n",
    "            clip = img[iy:ry,ix:rx]\n",
    "            clip[:,:,0]=0\n",
    "            clip[:,:,1]=0\n",
    "        elif mode == 3:\n",
    "            clip = img[iy:ry,ix:rx]\n",
    "            clip[:,:,0]=0\n",
    "            clip[:,:,2]=0\n",
    "    mouse_pos = \"Mouse position (\"+str(ix)+\",\"+str(iy)+\") - (\"+str(rx)+\",\"+str(ry)+\") -\"+str(value) +\" -\"str(mode)\n",
    "    cv2.put Text(img.mouse_pos,(10,30),font, 6,(0,0,0),2,cv2.Line_AA)\n",
    "    cv2.imshow('image',img)\n",
    "cv2.destroyAllWindows()"
   ]
  },
  {
   "cell_type": "code",
   "execution_count": null,
   "id": "4cff4db3-2bb2-41af-8bc9-5dfc0d46ee74",
   "metadata": {},
   "outputs": [],
   "source": []
  }
 ],
 "metadata": {
  "kernelspec": {
   "display_name": "Python 3",
   "language": "python",
   "name": "python3"
  },
  "language_info": {
   "codemirror_mode": {
    "name": "ipython",
    "version": 3
   },
   "file_extension": ".py",
   "mimetype": "text/x-python",
   "name": "python",
   "nbconvert_exporter": "python",
   "pygments_lexer": "ipython3",
   "version": "3.9.4"
  }
 },
 "nbformat": 4,
 "nbformat_minor": 5
}
