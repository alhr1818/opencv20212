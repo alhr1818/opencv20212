{
 "cells": [
  {
   "cell_type": "markdown",
   "id": "f7e9b19c-0af2-4875-816b-f0685313e260",
   "metadata": {},
   "source": [
    "## 1.4.14 Hough Circle Transform"
   ]
  },
  {
   "cell_type": "code",
   "execution_count": 1,
   "id": "59d6406a-9c14-44a1-8315-cc61265ebdd5",
   "metadata": {},
   "outputs": [],
   "source": [
    "import cv2\n",
    "import numpy as np"
   ]
  },
  {
   "cell_type": "code",
   "execution_count": 3,
   "id": "6de0cdcb-c1c6-483a-b4ef-9bff2c4acad1",
   "metadata": {},
   "outputs": [],
   "source": [
    "img = cv2.imread('opencv_logo.png',0)\n",
    "img = cv2.medianBlur(img,5)\n",
    "cimg = cv2.cvtColor(img,cv2.COLOR_GRAY2BGR)"
   ]
  },
  {
   "cell_type": "code",
   "execution_count": 4,
   "id": "be1934d2-ee59-4c5e-a651-69669dd0e6a6",
   "metadata": {},
   "outputs": [],
   "source": [
    "circles = cv2.HoughCircles(img,cv2.HOUGH_GRADIENT,1,20, param1=50,param2=30,minRadius=0,maxRadius=0)"
   ]
  },
  {
   "cell_type": "code",
   "execution_count": 5,
   "id": "a5659745-e103-491a-a161-97360396c124",
   "metadata": {},
   "outputs": [],
   "source": [
    "circles = np.uint16(np.around(circles))\n",
    "for i in circles[0,:]:\n",
    "    # draw the outer circle\n",
    "    cv2.circle(cimg,(i[0],i[1]),i[2],(0,255,0),2)\n",
    "    # draw the center of the circle\n",
    "    cv2.circle(cimg,(i[0],i[1]),2,(0,0,255),3)"
   ]
  },
  {
   "cell_type": "code",
   "execution_count": 6,
   "id": "e65ec4a7-9eea-4120-acf2-97ed99e63cd0",
   "metadata": {},
   "outputs": [],
   "source": [
    "cv2.imshow('detected circles',cimg)\n",
    "cv2.waitKey(0)\n",
    "cv2.destroyAllWindows()"
   ]
  },
  {
   "cell_type": "code",
   "execution_count": null,
   "id": "12c13190-c232-4262-9b7d-2c9d4a897892",
   "metadata": {},
   "outputs": [],
   "source": []
  }
 ],
 "metadata": {
  "kernelspec": {
   "display_name": "Python 3",
   "language": "python",
   "name": "python3"
  },
  "language_info": {
   "codemirror_mode": {
    "name": "ipython",
    "version": 3
   },
   "file_extension": ".py",
   "mimetype": "text/x-python",
   "name": "python",
   "nbconvert_exporter": "python",
   "pygments_lexer": "ipython3",
   "version": "3.9.4"
  }
 },
 "nbformat": 4,
 "nbformat_minor": 5
}
