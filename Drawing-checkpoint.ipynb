{
 "cells": [
  {
   "cell_type": "markdown",
   "id": "b3c32b6a-6dc7-40e3-b8cf-dc25b90ef3c1",
   "metadata": {},
   "source": [
    "## 1.2.3 Drawing Functions in OpenCV"
   ]
  },
  {
   "cell_type": "markdown",
   "id": "676eaf06-142a-4a36-a256-2588e8e4f646",
   "metadata": {},
   "source": [
    "### Drawing Line Rectangle  Circle Ellipse"
   ]
  },
  {
   "cell_type": "code",
   "execution_count": 17,
   "id": "49ccd6b3-f18d-403f-92b0-c38adb38cbd6",
   "metadata": {},
   "outputs": [],
   "source": [
    "import numpy as np\n",
    "import cv2\n",
    "#컨트롤 쉬프트 -"
   ]
  },
  {
   "cell_type": "code",
   "execution_count": 18,
   "id": "4dda69d2-9f0f-47b7-962f-b4bdf4f77699",
   "metadata": {},
   "outputs": [],
   "source": [
    "# Create a black image\n",
    "img = np.zeros((512,512,3), np.uint8)\n",
    "# Draw a diagonal blue line with thickness of 5 px\n",
    "img = cv2.line(img,(0,0),(511,511),(255,0,0),5)\n",
    "img = cv2.line(img,(511,0),(0,511),(0,255,0),3)"
   ]
  },
  {
   "cell_type": "code",
   "execution_count": null,
   "id": "d9f762c8-1858-4b39-bfe9-3855c2d9ce12",
   "metadata": {},
   "outputs": [],
   "source": [
    "while(1):\n",
    "    cv2.imshow('image',img)\n",
    "    if cv2.waitKey(20) & 0xFF == 27:\n",
    "        break\n",
    "cv2.destroyAllWindows()"
   ]
  },
  {
   "cell_type": "code",
   "execution_count": null,
   "id": "4903ec9d-f4a3-4c65-9377-69a042bebf16",
   "metadata": {},
   "outputs": [],
   "source": [
    "from matplotlib import pyplot as plt\n",
    "plt.imshow(img)\n",
    "plt.xticks([]), plt.yticks([]) # to hide tick values on X and Y axis\n",
    "plt.show()"
   ]
  },
  {
   "cell_type": "code",
   "execution_count": 27,
   "id": "14bcd7c6-0467-437a-9449-99176c0888d7",
   "metadata": {},
   "outputs": [],
   "source": [
    "img = cv2.rectangle(img,(384,0),(510,128),(0,255,0),3)\n",
    "img = cv2.circle(img,(447,63), 63, (0,0,255), -1)"
   ]
  },
  {
   "cell_type": "code",
   "execution_count": null,
   "id": "faa4dcf8-430f-4e76-96fe-1eddce3f2973",
   "metadata": {},
   "outputs": [],
   "source": [
    "plt.imshow(img)\n",
    "plt.xticks([]), plt.yticks([]) # to hide tick values on X and Y axis\n",
    "plt.show()"
   ]
  },
  {
   "cell_type": "code",
   "execution_count": 29,
   "id": "61d9eccc-24a2-493e-ad53-6acc9382b14c",
   "metadata": {},
   "outputs": [],
   "source": [
    "img = cv2.ellipse(img,(256,256),(100,50),0,0,180,255,-1)\n",
    "pts = np.array([[10,5],[20,30],[70,20],[50,10]], np.int32)\n",
    "pts = pts.reshape((-1,1,2))\n",
    "img = cv2.polylines(img,[pts],True,(0,255,255))"
   ]
  },
  {
   "cell_type": "code",
   "execution_count": 30,
   "id": "5aba51ad-da99-4a61-8559-98a543567182",
   "metadata": {},
   "outputs": [],
   "source": [
    "pts = [[10,5],[20,30],[70,20],[50,10]]"
   ]
  },
  {
   "cell_type": "code",
   "execution_count": 31,
   "id": "acb7a241-2541-4457-a3e1-d352408847c6",
   "metadata": {},
   "outputs": [
    {
     "name": "stdout",
     "output_type": "stream",
     "text": [
      "[20, 30]\n"
     ]
    }
   ],
   "source": [
    "print(pts[1])"
   ]
  },
  {
   "cell_type": "code",
   "execution_count": null,
   "id": "48510324-0769-4edd-960c-5c2055e204c6",
   "metadata": {},
   "outputs": [],
   "source": [
    "plt.imshow(img)\n",
    "plt.xticks([]), plt.yticks([]) # to hide tick values on X and Y axis\n",
    "plt.show()"
   ]
  },
  {
   "cell_type": "code",
   "execution_count": 33,
   "id": "c33c758f-cd2c-4525-b168-f55d993428ed",
   "metadata": {},
   "outputs": [
    {
     "data": {
      "text/plain": [
       "array([[[255,   0,   0],\n",
       "        [255,   0,   0],\n",
       "        [255,   0,   0],\n",
       "        ...,\n",
       "        [  0, 255,   0],\n",
       "        [  0, 255,   0],\n",
       "        [  0, 255,   0]],\n",
       "\n",
       "       [[255,   0,   0],\n",
       "        [255,   0,   0],\n",
       "        [255,   0,   0],\n",
       "        ...,\n",
       "        [  0, 255,   0],\n",
       "        [  0, 255,   0],\n",
       "        [  0, 255,   0]],\n",
       "\n",
       "       [[255,   0,   0],\n",
       "        [255,   0,   0],\n",
       "        [255,   0,   0],\n",
       "        ...,\n",
       "        [  0, 255,   0],\n",
       "        [  0, 255,   0],\n",
       "        [  0, 255,   0]],\n",
       "\n",
       "       ...,\n",
       "\n",
       "       [[  0, 255,   0],\n",
       "        [  0, 255,   0],\n",
       "        [  0, 255,   0],\n",
       "        ...,\n",
       "        [255,   0,   0],\n",
       "        [255,   0,   0],\n",
       "        [255,   0,   0]],\n",
       "\n",
       "       [[  0, 255,   0],\n",
       "        [  0, 255,   0],\n",
       "        [  0, 255,   0],\n",
       "        ...,\n",
       "        [255,   0,   0],\n",
       "        [255,   0,   0],\n",
       "        [255,   0,   0]],\n",
       "\n",
       "       [[  0, 255,   0],\n",
       "        [  0, 255,   0],\n",
       "        [  0, 255,   0],\n",
       "        ...,\n",
       "        [255,   0,   0],\n",
       "        [255,   0,   0],\n",
       "        [255,   0,   0]]], dtype=uint8)"
      ]
     },
     "execution_count": 33,
     "metadata": {},
     "output_type": "execute_result"
    }
   ],
   "source": [
    "font = cv2.FONT_HERSHEY_SIMPLEX\n",
    "cv2.putText(img,'OpenCV',(10,500), font, 4,(255,255,255),2,cv2.LINE_AA)"
   ]
  },
  {
   "cell_type": "code",
   "execution_count": null,
   "id": "82a3bb83-29a0-4874-81a2-012f1a3b0ba5",
   "metadata": {},
   "outputs": [],
   "source": [
    "plt.imshow(img)\n",
    "plt.xticks([]), plt.yticks([]) # to hide tick values on X and Y axis\n",
    "plt.show()"
   ]
  },
  {
   "cell_type": "code",
   "execution_count": null,
   "id": "29bc47f1-c8e5-425c-a672-82f5ed4b1877",
   "metadata": {},
   "outputs": [],
   "source": []
  }
 ],
 "metadata": {
  "kernelspec": {
   "display_name": "Python 3 (ipykernel)",
   "language": "python",
   "name": "python3"
  },
  "language_info": {
   "codemirror_mode": {
    "name": "ipython",
    "version": 3
   },
   "file_extension": ".py",
   "mimetype": "text/x-python",
   "name": "python",
   "nbconvert_exporter": "python",
   "pygments_lexer": "ipython3",
   "version": "3.9.6"
  }
 },
 "nbformat": 4,
 "nbformat_minor": 5
}
