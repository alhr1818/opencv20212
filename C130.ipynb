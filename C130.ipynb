{
 "cells": [
  {
   "cell_type": "markdown",
   "id": "f94c2f3a-5828-40fe-a35e-ff4525d67c28",
   "metadata": {},
   "source": [
    "## 1.3.1 Basic Operations on Images"
   ]
  },
  {
   "cell_type": "code",
   "execution_count": 1,
   "id": "61384dbc-3d04-48ec-a7cf-8a98885aba8c",
   "metadata": {},
   "outputs": [],
   "source": [
    "import cv2\n",
    "import numpy as np\n",
    "from matplotlib import pyplot as plt"
   ]
  },
  {
   "cell_type": "code",
   "execution_count": 2,
   "id": "2d767a48-18f6-4ec0-9f15-f1e4d4bd76b9",
   "metadata": {},
   "outputs": [],
   "source": [
    "def pltImage(img):\n",
    "    plt.imshow(img)\n",
    "    plt.xticks([]), plt.yticks([]) # to hide tick values on X and Y axis\n",
    "    plt.show()"
   ]
  },
  {
   "cell_type": "code",
   "execution_count": 3,
   "id": "33c257c0-c6f8-42e3-8268-44e9810cba25",
   "metadata": {},
   "outputs": [
    {
     "name": "stdout",
     "output_type": "stream",
     "text": [
      "[155 131 111]\n"
     ]
    }
   ],
   "source": [
    "img = cv2.imread('i1.jpg')\n",
    "px = img[100,100]\n",
    "print(px)"
   ]
  },
  {
   "cell_type": "code",
   "execution_count": 4,
   "id": "f712bc4d-c971-4245-8b22-95a51233513f",
   "metadata": {},
   "outputs": [],
   "source": [
    "pltImage(img)"
   ]
  },
  {
   "cell_type": "code",
   "execution_count": 5,
   "id": "efe637e9-4468-41ea-b8cd-334809e1c605",
   "metadata": {},
   "outputs": [
    {
     "name": "stdout",
     "output_type": "stream",
     "text": [
      "155\n"
     ]
    }
   ],
   "source": [
    "blue = img[100,100,0]\n",
    "print(blue)"
   ]
  },
  {
   "cell_type": "code",
   "execution_count": 6,
   "id": "23b4faf8-c955-4eb5-8aa1-579d72282f5c",
   "metadata": {},
   "outputs": [],
   "source": [
    "img[100,100] = [255,255,255]\n",
    "pltImage(img)"
   ]
  },
  {
   "cell_type": "code",
   "execution_count": 7,
   "id": "a1108a70-4e92-4204-8574-d7202e9cd9f5",
   "metadata": {},
   "outputs": [
    {
     "data": {
      "text/plain": [
       "(148, 339, 3)"
      ]
     },
     "execution_count": 7,
     "metadata": {},
     "output_type": "execute_result"
    }
   ],
   "source": [
    "img.shape"
   ]
  },
  {
   "cell_type": "code",
   "execution_count": 8,
   "id": "76a12737-4904-4453-8e00-2808e709492e",
   "metadata": {},
   "outputs": [
    {
     "data": {
      "text/plain": [
       "150516"
      ]
     },
     "execution_count": 8,
     "metadata": {},
     "output_type": "execute_result"
    }
   ],
   "source": [
    "img.size"
   ]
  },
  {
   "cell_type": "code",
   "execution_count": 9,
   "id": "c22e8c53-1e73-49c5-a37e-dd5b1d459ba1",
   "metadata": {},
   "outputs": [
    {
     "data": {
      "text/plain": [
       "dtype('uint8')"
      ]
     },
     "execution_count": 9,
     "metadata": {},
     "output_type": "execute_result"
    }
   ],
   "source": [
    "img.dtype"
   ]
  },
  {
   "cell_type": "code",
   "execution_count": 10,
   "id": "b5653565-3d81-4ef8-a4dd-cb17d3dfa291",
   "metadata": {},
   "outputs": [],
   "source": [
    "w = 100\n",
    "ball = img[280:340, 330:390]"
   ]
  },
  {
   "cell_type": "code",
   "execution_count": 11,
   "id": "d1c72f35-1087-4193-a5ab-b4094b723ada",
   "metadata": {},
   "outputs": [],
   "source": [
    "pltImage(ball)"
   ]
  },
  {
   "cell_type": "code",
   "execution_count": 12,
   "id": "e6a988b8-165a-4d5b-a170-17d681346eae",
   "metadata": {},
   "outputs": [],
   "source": [
    "img[10:10+w, 10:10+w] = ball"
   ]
  },
  {
   "cell_type": "code",
   "execution_count": 13,
   "id": "4a3f00bd-2d67-4078-ae91-457cc49b8766",
   "metadata": {},
   "outputs": [],
   "source": [
    "pltImage(img)"
   ]
  },
  {
   "cell_type": "code",
   "execution_count": 14,
   "id": "dc27a19d-e454-447f-a3cf-791469aa627c",
   "metadata": {},
   "outputs": [],
   "source": [
    "b,g,r = cv2.split(img)"
   ]
  },
  {
   "cell_type": "code",
   "execution_count": 15,
   "id": "67b3a50e-fc60-40de-8321-37b99871a5ed",
   "metadata": {},
   "outputs": [
    {
     "data": {
      "text/plain": [
       "(148, 339)"
      ]
     },
     "execution_count": 15,
     "metadata": {},
     "output_type": "execute_result"
    }
   ],
   "source": [
    "b.shape"
   ]
  },
  {
   "cell_type": "code",
   "execution_count": 16,
   "id": "739dc095-bf58-460d-a9ff-5447c54a13f1",
   "metadata": {},
   "outputs": [
    {
     "data": {
      "text/plain": [
       "array([[143, 143, 143, ..., 116, 116, 116],\n",
       "       [144, 144, 143, ..., 116, 116, 116],\n",
       "       [144, 144, 144, ..., 116, 116, 116],\n",
       "       ...,\n",
       "       [114, 114, 113, ...,  75,  87, 103],\n",
       "       [113, 113, 112, ..., 121, 135, 150],\n",
       "       [112, 112, 111, ..., 167, 164, 159]], dtype=uint8)"
      ]
     },
     "execution_count": 16,
     "metadata": {},
     "output_type": "execute_result"
    }
   ],
   "source": [
    "b"
   ]
  },
  {
   "cell_type": "code",
   "execution_count": 17,
   "id": "3d77f614-c979-4fc8-89e6-ae2bd9a6a182",
   "metadata": {},
   "outputs": [
    {
     "data": {
      "text/plain": [
       "array([[104, 104, 104, ...,  69,  69,  69],\n",
       "       [105, 105, 104, ...,  69,  69,  69],\n",
       "       [105, 105, 105, ...,  69,  69,  69],\n",
       "       ...,\n",
       "       [ 90,  90,  89, ...,  56,  68,  82],\n",
       "       [ 89,  89,  88, ..., 104, 119, 131],\n",
       "       [ 88,  88,  87, ..., 150, 148, 143]], dtype=uint8)"
      ]
     },
     "execution_count": 17,
     "metadata": {},
     "output_type": "execute_result"
    }
   ],
   "source": [
    "g"
   ]
  },
  {
   "cell_type": "code",
   "execution_count": 18,
   "id": "80a84eac-6db8-4fa3-a392-cc4a514303db",
   "metadata": {},
   "outputs": [
    {
     "data": {
      "text/plain": [
       "array([[ 66,  66,  66, ...,  37,  37,  37],\n",
       "       [ 67,  67,  66, ...,  37,  37,  37],\n",
       "       [ 67,  67,  67, ...,  37,  37,  37],\n",
       "       ...,\n",
       "       [ 72,  72,  71, ...,  43,  53,  67],\n",
       "       [ 71,  71,  70, ...,  91, 103, 116],\n",
       "       [ 70,  70,  69, ..., 137, 132, 127]], dtype=uint8)"
      ]
     },
     "execution_count": 18,
     "metadata": {},
     "output_type": "execute_result"
    }
   ],
   "source": [
    "r"
   ]
  },
  {
   "cell_type": "code",
   "execution_count": 19,
   "id": "3a65b663-7f54-4525-a8ed-57509abe2dda",
   "metadata": {},
   "outputs": [],
   "source": [
    "img = cv2.merge((r,g,b))"
   ]
  },
  {
   "cell_type": "code",
   "execution_count": 20,
   "id": "46922ab1-6227-40ac-9408-9896bb517b69",
   "metadata": {},
   "outputs": [],
   "source": [
    "pltImage(img)"
   ]
  },
  {
   "cell_type": "code",
   "execution_count": 21,
   "id": "4090f91d-ae7f-444e-bfca-8a3ecff05bf6",
   "metadata": {},
   "outputs": [],
   "source": [
    "pltImage(b)"
   ]
  },
  {
   "cell_type": "code",
   "execution_count": 22,
   "id": "6b43e653-7828-4d63-9a3b-8e77dfcddf99",
   "metadata": {},
   "outputs": [],
   "source": [
    "pltImage(g)"
   ]
  },
  {
   "cell_type": "code",
   "execution_count": 23,
   "id": "34f65d66-92a9-4520-ab1a-4ad3ee889d58",
   "metadata": {},
   "outputs": [],
   "source": [
    "pltImage(r)"
   ]
  },
  {
   "cell_type": "code",
   "execution_count": 24,
   "id": "33c88d55-55ae-44ae-beb9-63322160e459",
   "metadata": {},
   "outputs": [],
   "source": [
    "BLUE = [255,0,0]\n",
    "img1 = cv2.imread('opencv_logo.g')\n",
    "m = 100\n",
    "replicate = cv2.copyMakeBorder(img1,m,m,m,m,cv2.BORDER_REPLICATE)\n",
    "reflect = cv2.copyMakeBorder(img1,m,m,m,m,cv2.BORDER_REFLECT)\n",
    "reflect101 = cv2.copyMakeBorder(img1,m,m,m,m,cv2.BORDER_REFLECT_101)\n",
    "wrap = cv2.copyMakeBorder(img1,m,m,m,m,cv2.BORDER_WRAP)\n",
    "constant= cv2.copyMakeBorder(img1,m,m,m,m,cv2.BORDER_CONSTANT,value=BLUE)"
   ]
  },
  {
   "cell_type": "code",
   "execution_count": 25,
   "id": "c99004ae-9380-4a2b-b479-5039dbbf7e7e",
   "metadata": {},
   "outputs": [],
   "source": [
    "plt.rcParams[\"figure.figsize\"] = (20,10)\n",
    "plt.subplot(231),plt.imshow(img1,'gray'),plt.title('ORIGINAL')\n",
    "plt.subplot(232),plt.imshow(replicate,'gray'),plt.title('REPLICATE')\n",
    "plt.subplot(233),plt.imshow(reflect,'gray'),plt.title('REFLECT')\n",
    "plt.subplot(234),plt.imshow(reflect101,'gray'),plt.title('REFLECT_101')\n",
    "plt.subplot(235),plt.imshow(wrap,'gray'),plt.title('WRAP')\n",
    "plt.subplot(236),plt.imshow(constant,'gray'),plt.title('CONSTANT')\n",
    "plt.show()"
   ]
  },
  {
   "cell_type": "code",
   "execution_count": null,
   "id": "2ef81a6a-7954-42ac-a891-4957351938c4",
   "metadata": {},
   "outputs": [],
   "source": []
  }
 ],
 "metadata": {
  "kernelspec": {
   "display_name": "Python 3 (ipykernel)",
   "language": "python",
   "name": "python3"
  },
  "language_info": {
   "codemirror_mode": {
    "name": "ipython",
    "version": 3
   },
   "file_extension": ".py",
   "mimetype": "text/x-python",
   "name": "python",
   "nbconvert_exporter": "python",
   "pygments_lexer": "ipython3",
   "version": "3.9.6"
  }
 },
 "nbformat": 4,
 "nbformat_minor": 5
}
